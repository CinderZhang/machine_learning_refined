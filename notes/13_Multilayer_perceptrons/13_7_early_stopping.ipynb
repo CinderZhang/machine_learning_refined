{
 "cells": [
  {
   "cell_type": "markdown",
   "metadata": {},
   "source": [
    "## Chapter 13: Multi-layer Perceptrons "
   ]
  },
  {
   "cell_type": "markdown",
   "metadata": {},
   "source": [
    "# 13.7 Cross-Validation via Early Stopping"
   ]
  },
  {
   "cell_type": "markdown",
   "metadata": {},
   "source": [
    "The standard regularization procedure for cross-validation presented in Section 11.4 requires many complete minimizations of the given cost function in order to determine the optimal setting of model weights. However optimization of neural networks (particularly those employing many hidden layers) can be challenging and computationally intensive, making cross-validation via the typical regularization approach very difficult. In this Section we introduce an alternative regularization technique called *early stopping* that is commonly used with neural network models. Early stopping presents a comparatively cheap alternative for regularizing network models, where optimal parameters are chosen from a single optimization run by halting it when validation error is at its lowest."
   ]
  },
  {
   "cell_type": "code",
   "execution_count": null,
   "metadata": {},
   "outputs": [],
   "source": [
    "# This code cell will not be shown in the HTML version of this notebook\n",
    "# append path for local library, data, and image import\n",
    "import sys\n",
    "sys.path.append('./chapter_13_library') \n",
    "sys.path.append('./chapter_13_images') \n",
    "sys.path.append('./chapter_13_datasets') \n",
    "\n",
    "# backend file\n",
    "import static_plotter, basic_runner, early_stop_classification_animator, early_stop_regression_animator\n",
    "import nonlinear_regression_demos_multiple_panels as regress_plotter\n",
    "import nonlinear_classification_visualizer_multiple_panels as classif_plotter\n",
    "import crossval_classification_visualizer as classif_plotter_crossval\n",
    "\n",
    "from early_stop_demo_lib import superlearn_setup\n",
    "\n",
    "# data path\n",
    "data_path_1 = 'chapter_13_datasets/noisy_sin_sample.csv'\n",
    "data_path_2 = 'chapter_13_datasets/new_circle_data.csv'\n",
    "data_path_3 = 'chapter_13_datasets/early_stopping_weights.p'\n",
    "data_path_4 = 'chapter_13_datasets/early_stop_test_data.p'\n",
    "data_path_5 = 'chapter_13_datasets/early_stop_train_data.p'\n",
    "data_path_6 = 'chapter_13_datasets/MNIST_subset.pickle'\n",
    "\n",
    "# image paths\n",
    "image_path_1 = \"chapter_13_images/early_stopping_part_1.png\"\n",
    "image_path_2 = \"chapter_13_images/early_stopping_part_2.png\"\n",
    "\n",
    "# video paths\n",
    "video_path_1 = 'chapter_13_videos/animation_5.mp4'\n",
    "video_path_2 = 'chapter_13_videos/animation_5.mp4'\n",
    "\n",
    "# plotting imports\n",
    "import matplotlib.pyplot as plt\n",
    "from matplotlib import gridspec\n",
    "import IPython, copy\n",
    "from matplotlib.axes._axes import _log as matplotlib_axes_logger\n",
    "matplotlib_axes_logger.setLevel('ERROR')\n",
    "\n",
    "# import autograd-wrapped numpy\n",
    "import autograd.numpy as np\n",
    "\n",
    "# this is needed to compensate for matplotlib notebook's tendancy to blow up images when plotted inline\n",
    "%matplotlib inline\n",
    "from matplotlib import rcParams\n",
    "rcParams['figure.autolayout'] = True\n",
    "\n",
    "%load_ext autoreload\n",
    "%autoreload 2"
   ]
  },
  {
   "cell_type": "markdown",
   "metadata": {},
   "source": [
    "## Early stopping"
   ]
  },
  {
   "cell_type": "markdown",
   "metadata": {},
   "source": [
    "With any technique for cross-validation (introduced in Section 11.2) our ideal is to find a model that provides the lowest possible error on a validation set. With early stopping we do this by stopping the minimization of a cost function (which is measuring training error) when validation error reaches its lowest point. The basic idea is illustrated in the figure below. In the left panel we show a prototypical nonlinear regression dataset, and in the middle the cost function of a high capacity model (like a deep neural network) shown figuratively in two dimensions. As we begin a run of a local optimization method we measure both the training error (provided by the cost function we are minimizing) as well as validation error at each step of the procedure, as shown in the right panel. We try to halt the procedure when the validation error has reached its lowest point. This *regularization technique* is commonly used as a cheap alternative to the standard approach outlined in Section 11.4, particularly with deep neural network models that can be difficult to optimize, as it requires only a single optimization run."
   ]
  },
  {
   "cell_type": "code",
   "execution_count": 2,
   "metadata": {},
   "outputs": [
    {
     "data": {
      "text/html": [
       "<img src=\"chapter_13_images/early_stopping_part_1.png\" width=\"100%\" height=\"auto\" alt=\"\"/>"
      ],
      "text/plain": [
       "<IPython.core.display.HTML object>"
      ]
     },
     "execution_count": 2,
     "metadata": {},
     "output_type": "execute_result"
    }
   ],
   "source": [
    "IPython.display.HTML('''<img src=\"''' + image_path_1 + '''\" width=\"100%\" height=\"auto\" alt=\"\"/>''')"
   ]
  },
  {
   "cell_type": "markdown",
   "metadata": {},
   "source": [
    "<figure>\n",
    "<figcaption> <strong>Figure 1:</strong> <em> (left panel) A prototypical nonlinear regression dataset, (middle panel) a figurative illustration of the cost associated with a high capacity model, and the measurement of training / validation error at each step of a local optimization procedure.  With *early stopping* we make a run of a local optimization procedure and measure both the training and validation error at each step.  We try to halt the procedure when the validation error reaches its lowest value, with the corresponding set of weights providing our high capacity  `model` with the least chance of overfitting our training data (and hopefully providing a good fit to the entire dataset).\n",
    "</em>\n",
    "</figcaption>\n",
    "</figure>"
   ]
  },
  {
   "cell_type": "markdown",
   "metadata": {},
   "source": [
    "There are a number of important engineering details associated with making an effective early stopping procedure. These include \n",
    "\n",
    "- **When is validation error really at its lowest?** While generally speaking validation error decreases at the start of an optimization run and eventually increases (making somewhat of a 'U' shape) it can certainly fluctuate up and down during optimization. Therefore it is not all together obvious when the validation error has indeed reached its lowest point unless the optimization process is performed to completion. To deal with this peculiarity, often in practice a reasonable engineering choice is made as to when to stop based on how long it has been since the validation error has *not* decreased.\n",
    "\n",
    "\n",
    "- **Large (local optimization) steps are to be avoided.** The idea with early stopping is to measure training and validation errors often as an optimization procedure makes progress, so that the procedure can be halted when validation error is low. If one uses a local optimization procedure that takes very large steps (e.g., Newton's method) optimization can quickly lead to weights that overfit the training data. In other words, a set of weights that provide minimal validation error can be skipped over entirely. Thus when employing early stopping one needs to use a local optimization method with moderate-length steps.\n",
    "\n",
    "\n",
    "- **Validation error should be measured often.** Validation error should be measured frequently during the minimization process in order to determine a validation error minimizing set of weights.  When employing a mini-batch / stochastic first order method validation error should be measured *several times per epoch* to avoid taking too large of steps without measuring validation error (and perhaps skipping over error minimizing weights entirely)."
   ]
  },
  {
   "cell_type": "markdown",
   "metadata": {},
   "source": [
    "Notice that because we are stopping our optimization procedure early based on validation error, that different weights (and correspondingly different shape nonlinearities) can be found via early stopping depending on the initialization of the local method used and the trajectory of the optimization.  This is illustrated pictorally in the figure below."
   ]
  },
  {
   "cell_type": "code",
   "execution_count": 3,
   "metadata": {},
   "outputs": [
    {
     "data": {
      "text/html": [
       "<img src=\"chapter_13_images/early_stopping_part_2.png\" width=\"100%\" height=\"auto\" alt=\"\"/>"
      ],
      "text/plain": [
       "<IPython.core.display.HTML object>"
      ]
     },
     "execution_count": 3,
     "metadata": {},
     "output_type": "execute_result"
    }
   ],
   "source": [
    "IPython.display.HTML('''<img src=\"''' + image_path_2 + '''\" width=\"100%\" height=\"auto\" alt=\"\"/>''')"
   ]
  },
  {
   "cell_type": "markdown",
   "metadata": {},
   "source": [
    "<figure>\n",
    "</figure>"
   ]
  },
  {
   "cell_type": "markdown",
   "metadata": {},
   "source": [
    "Below we show a few examples employing the early stopping regularization strategy."
   ]
  },
  {
   "cell_type": "markdown",
   "metadata": {},
   "source": [
    "#### <span style=\"color:#a50e3e;\">Example 1. </span>  Early stopping of a prototypical regression dataset"
   ]
  },
  {
   "cell_type": "markdown",
   "metadata": {},
   "source": [
    "Below we illustrate the early stopping procedure using a simple nonlinear regression dataset (split into $\\frac{2}{3}$ training and $\\frac{1}{3}$ validation), and a (artbitrarily chosen) three hidden layer network with $10$ units per layer and the $\\text{tanh}$ activation.  A single run of gradient descent is illustrated below, as you move the slider left to right you can see the resulting fit at each highlighted step of the run in the original dataset (top left), training (bottom left), and validation data (bottom right).  Moving the slider to where the validation error is lowest provides - for this training / validation split of the original data - a fine nonlinear model for the entire dataset."
   ]
  },
  {
   "cell_type": "code",
   "execution_count": 2,
   "metadata": {},
   "outputs": [],
   "source": [
    "## This code cell will not be shown in the HTML version of this notebook\n",
    "# load in dataset\n",
    "data = np.loadtxt(data_path_1,delimiter = ',')\n",
    "x = data[:-1,:]\n",
    "y = data[-1:,:] \n",
    "\n",
    "# show data\n",
    "demo1 = regress_plotter.Visualizer(data)\n",
    "# demo1.plot_data()\n",
    "\n",
    "# import the v1 library\n",
    "mylib0 = multi.early_stop_lib.superlearn_setup.Setup(x,y)\n",
    "\n",
    "# choose features\n",
    "layer_sizes = [1,10,10,10,1]\n",
    "\n",
    "# choose features\n",
    "mylib0.choose_features(name = 'multilayer_perceptron',layer_sizes = layer_sizes,activation = 'tanh')\n",
    "\n",
    "# choose normalizer\n",
    "mylib0.choose_normalizer(name = 'standard')\n",
    "\n",
    "# split into training and testing sets\n",
    "mylib0.make_train_valid_split(train_portion = 0.66)\n",
    "\n",
    "# choose cost\n",
    "mylib0.choose_cost(name = 'least_squares')\n",
    "\n",
    "# fit an optimization\n",
    "mylib0.fit(max_its = 20000,alpha_choice = 10**(-1))\n",
    "\n",
    "# animate the business\n",
    "frames = 200\n",
    "demo1 = multi.early_stop_regression_animator.Visualizer(data_path_1)\n",
    "demo1.animate_trainval_earlystop(video_path_1,mylib0,frames,show_history = True,fps=20)"
   ]
  },
  {
   "cell_type": "code",
   "execution_count": 5,
   "metadata": {},
   "outputs": [
    {
     "data": {
      "text/html": [
       "\n",
       "<video width=\"1000\" height=\"400\" controls loop>\n",
       "  <source src='chapter_13_videos/animation_1.mp4' type=\"video/mp4\">\n",
       "  </video>\n"
      ],
      "text/plain": [
       "<IPython.core.display.HTML object>"
      ]
     },
     "execution_count": 5,
     "metadata": {},
     "output_type": "execute_result"
    }
   ],
   "source": [
    "## This code cell will not be shown in the HTML version of this notebook\n",
    "# load video into notebook\n",
    "from IPython.display import HTML\n",
    "HTML(\"\"\"\n",
    "<video width=\"1000\" height=\"400\" controls loop>\n",
    "  <source src='\"\"\" + video_path_1 + \"\"\"' type=\"video/mp4\">\n",
    "  </video>\n",
    "\"\"\")"
   ]
  },
  {
   "cell_type": "markdown",
   "metadata": {},
   "source": [
    "#### <span style=\"color:#a50e3e;\">Example 2. </span>  Early stopping of a prototypical classification dataset"
   ]
  },
  {
   "cell_type": "markdown",
   "metadata": {},
   "source": [
    "Below we plot a prototypical nonlinear classification dataset.  We will use early stopping regularization to fine tune the capacity of a `model` consisting of $5$ single hidden layer `tanh` neural network universal approximators."
   ]
  },
  {
   "cell_type": "markdown",
   "metadata": {},
   "source": [
    "Below we illustrate a large number of gradient descent steps to tune our high capacity model for this dataset.  As you move the slider left to right you can see the resulting fit at each highlighted step of the run in the original dataset (top left), training (bottom left), and validation data (bottom right).  Moving the slider to where the validation error is lowest provides - for this training / validation split of the original data - a fine nonlinear model for the entire dataset."
   ]
  },
  {
   "cell_type": "code",
   "execution_count": 4,
   "metadata": {},
   "outputs": [],
   "source": [
    "# This code cell will not be shown in the HTML version of this notebook\n",
    "# load in dataset\n",
    "data = np.loadtxt(data_path_2,delimiter = ',')\n",
    "x = data[:-1,:]\n",
    "y = data[-1:,:] \n",
    "\n",
    "demo2 = classif_plotter.Visualizer(csvname)\n",
    "# demo2.plot_data();\n",
    "\n",
    "init_weights = pickle.load( open(data_path_3, \"rb\" ) )\n",
    "\n",
    "test_data = pickle.load( open(data_path_4, \"rb\" ) )\n",
    "x_valid =  test_data[:-1,:]\n",
    "y_valid = test_data[-1:,:] \n",
    "\n",
    "train_data = pickle.load( open(data_path_5, \"rb\" ) )\n",
    "x_train =  train_data[:-1,:]\n",
    "y_train = train_data[-1:,:] \n",
    "\n",
    "# load in data\n",
    "data = np.loadtxt(data_path_2,delimiter = ',')\n",
    "x = data[:-1,:]\n",
    "y = data[-1:,:] \n",
    "\n",
    "# import the v1 library\n",
    "mylib1 = superlearn_setup.Setup(x,y)\n",
    "\n",
    "# choose features\n",
    "layer_sizes = [2,5,1]\n",
    "\n",
    "# choose features\n",
    "mylib1.choose_features(name = 'multilayer_perceptron',layer_sizes = layer_sizes,activation = 'tanh')\n",
    "\n",
    "# choose normalizer\n",
    "mylib1.choose_normalizer(name = 'standard')\n",
    "\n",
    "# split into training and testing sets\n",
    "mylib1.make_train_valid_split(train_portion = 0.66)\n",
    "\n",
    "# put in saved data\n",
    "mylib1.x_train = x_train\n",
    "mylib1.y_train = y_train\n",
    "mylib1.x_valid = x_valid\n",
    "mylib1.y_valid = y_valid\n",
    "\n",
    "# choose cost\n",
    "mylib1.choose_cost(name = 'softmax',init = init_weights)\n",
    "\n",
    "# fit an optimization\n",
    "mylib1.fit(max_its = 2000,alpha_choice = 10**(0))#,init = favorite_color)\n",
    "\n",
    "# plot cost history\n",
    "#mylib1.show_histories(start = 0)\n",
    "\n",
    "# load up animator\n",
    "demo3 = multi.early_stop_classification_animator.Visualizer(data_path_2)\n",
    "frames = 200\n",
    "demo3.animate_trainval_earlystop(video_path_2,mylib1,frames,fps=20)"
   ]
  },
  {
   "cell_type": "code",
   "execution_count": 7,
   "metadata": {},
   "outputs": [
    {
     "data": {
      "text/html": [
       "\n",
       "<video width=\"1000\" height=\"400\" controls loop>\n",
       "  <source src='chapter_13_videos/animation_5.mp4' type=\"video/mp4\">\n",
       "  </video>\n"
      ],
      "text/plain": [
       "<IPython.core.display.HTML object>"
      ]
     },
     "execution_count": 7,
     "metadata": {},
     "output_type": "execute_result"
    }
   ],
   "source": [
    "## This code cell will not be shown in the HTML version of this notebook\n",
    "# load video into notebook\n",
    "from IPython.display import HTML\n",
    "HTML(\"\"\"\n",
    "<video width=\"1000\" height=\"400\" controls loop>\n",
    "  <source src='\"\"\" + video_path_2 + \"\"\"' type=\"video/mp4\">\n",
    "  </video>\n",
    "\"\"\")"
   ]
  },
  {
   "cell_type": "markdown",
   "metadata": {},
   "source": [
    "#### <span style=\"color:#a50e3e;\">Example 3. </span>  Early stopping on a subset of MNIST"
   ]
  },
  {
   "cell_type": "markdown",
   "metadata": {},
   "source": [
    "In this example we illustrate the result of early stopping using a subset of $P = 10,000$ points from the MNIST dataset, employing (an arbitrarily chosen) three hidden-layer architecture with $10$ units per layer and the `relu` activation function.  Here we employ $80\\%$ of the dataset for training and the remainder for validation, and run gradient descent for $3,000$ steps measuring the cost function and number of misclassifications at each stsp over both training and validation sets.\n",
    "\n",
    "The cost function over the validation error reaches a minimum value around step $1,000$, and the misclassifications over validation reaches a mininum of $230$ around step $1,5000$. "
   ]
  },
  {
   "cell_type": "code",
   "execution_count": 11,
   "metadata": {},
   "outputs": [
    {
     "data": {
      "image/png": "[encoded data removed]",
      "text/plain": [
       "<Figure size 1000x300 with 2 Axes>"
      ]
     },
     "metadata": {},
     "output_type": "display_data"
    }
   ],
   "source": [
    "# This code cell will not be shown in the HTML version of this notebook\n",
    "# load data\n",
    "with open(data_path_6, \"rb\") as input_file:\n",
    "    data = pickle.load(input_file)\n",
    "    \n",
    "x_sample = data[0]\n",
    "y_sample = data[1] \n",
    "\n",
    "# import the v1 library\n",
    "mylib2 = superlearn_setup.Setup(x_sample,y_sample)\n",
    "\n",
    "# choose features\n",
    "layer_sizes = [784,10,10,10,10]\n",
    "\n",
    "# choose features\n",
    "mylib2.choose_features(name = 'multilayer_perceptron',layer_sizes = layer_sizes,activation = 'relu')\n",
    "\n",
    "# choose normalizer\n",
    "mylib2.choose_normalizer(name = 'standard')\n",
    "\n",
    "# split into training and testing sets\n",
    "mylib2.make_train_valid_split(train_portion = 0.8)\n",
    "\n",
    "# choose cost\n",
    "mylib2.choose_cost(name = 'multiclass_softmax')\n",
    "\n",
    "# fit an optimization\n",
    "mylib2.fit(max_its = 3000,alpha_choice = 10**(-1))\n",
    "mylib2.show_histories()"
   ]
  }
 ],
 "metadata": {
  "kernelspec": {
   "display_name": "Python 3 (ipykernel)",
   "language": "python",
   "name": "python3"
  },
  "language_info": {
   "codemirror_mode": {
    "name": "ipython",
    "version": 3
   },
   "file_extension": ".py",
   "mimetype": "text/x-python",
   "name": "python",
   "nbconvert_exporter": "python",
   "pygments_lexer": "ipython3",
   "version": "3.8.10"
  },
  "toc": {
   "colors": {
    "hover_highlight": "#DAA520",
    "navigate_num": "#000000",
    "navigate_text": "#333333",
    "running_highlight": "#FF0000",
    "selected_highlight": "#FFD700",
    "sidebar_border": "#EEEEEE",
    "wrapper_background": "#FFFFFF"
   },
   "moveMenuLeft": true,
   "nav_menu": {
    "height": "199px",
    "width": "252px"
   },
   "navigate_menu": true,
   "number_sections": true,
   "sideBar": true,
   "threshold": 4,
   "toc_cell": false,
   "toc_section_display": "block",
   "toc_window_display": false,
   "widenNotebook": false
  },
  "widgets": {
   "application/vnd.jupyter.widget-state+json": {
    "state": {},
    "version_major": 1,
    "version_minor": 0
   }
  }
 },
 "nbformat": 4,
 "nbformat_minor": 2
}
