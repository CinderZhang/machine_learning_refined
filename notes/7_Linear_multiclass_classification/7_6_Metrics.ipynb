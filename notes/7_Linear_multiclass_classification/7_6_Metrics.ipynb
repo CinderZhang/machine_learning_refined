{
 "cells": [
  {
   "cell_type": "markdown",
   "metadata": {},
   "source": [
    "## Chapter 7: Linear multi-class classification"
   ]
  },
  {
   "cell_type": "markdown",
   "metadata": {},
   "source": [
    "# 7.6  Classification Quality Metrics"
   ]
  },
  {
   "cell_type": "markdown",
   "metadata": {
    "collapsed": true
   },
   "source": [
    "In this Section we describe simple metrics for judging the quality of a trained multi-class classification model, as well as how to make predictions using one."
   ]
  },
  {
   "cell_type": "code",
   "execution_count": null,
   "metadata": {},
   "outputs": [],
   "source": [
    "# append path for local library, data, and image import\n",
    "import sys\n",
    "sys.path.append('./chapter_7_library') \n",
    "sys.path.append('./chapter_7_images') \n",
    "sys.path.append('./chapter_7_datasets') \n",
    "\n",
    "# import section helper\n",
    "import section_7_4_helpers\n",
    "\n",
    "# dataset paths\n",
    "dataset_path_1 = 'chapter_7_datasets/5class_data.csv'\n",
    "\n",
    "# image paths\n",
    "image_path_1 = \"chapter_7_images/multiclass_prediction.png\"\n",
    "image_path_2 = \"chapter_7_images/confusion_multiclass.png\"\n",
    "\n",
    "\n",
    "# standard imports\n",
    "import matplotlib.pyplot as plt\n",
    "import IPython\n",
    "\n",
    "# import autograd-wrapped numpy\n",
    "import autograd.numpy as np\n",
    "\n",
    "# this is needed to compensate for matplotlib notebook's tendancy to blow up images when plotted inline\n",
    "%matplotlib inline\n",
    "from matplotlib import rcParams\n",
    "rcParams['figure.autolayout'] = True\n",
    "\n",
    "%load_ext autoreload\n",
    "%autoreload 2"
   ]
  },
  {
   "cell_type": "markdown",
   "metadata": {},
   "source": [
    "## Making predictions using a trained model"
   ]
  },
  {
   "cell_type": "markdown",
   "metadata": {},
   "source": [
    "If we denote the optimal set of weights found by minimizing a classification cost function (or via performing OvA), employing by default label values $y_p \\in \\left\\{0,1,...,C-1\\right\\}$, by $\\mathbf{W}^{\\star}$ then note we can write our fully tuned linear model as \n",
    "\n",
    "\\begin{equation}\n",
    "\\text{model}\\left(\\mathbf{x},\\mathbf{W}^{\\star}\\right) =  \\mathring{\\mathbf{x}}_{\\,}^T\\mathbf{W}^{\\star}   \n",
    "\\end{equation}\n",
    "\n",
    "This fully trained model defines an optimal decision boundary for the training dataseet which is defined by the fusion rule\n",
    "\n",
    "\\begin{equation}\n",
    "\\underset{c=0,...,C-1}{\\text{argmax}}\\,\\, \\mathbf{x}^T \\mathbf{w}_c^{\\star}.\n",
    "\\end{equation}"
   ]
  },
  {
   "cell_type": "markdown",
   "metadata": {},
   "source": [
    "To predict the label $y$ of an input $\\mathbf{x}$ we then process it through this rule as\n",
    "\n",
    "\\begin{equation}\n",
    "y_{\\,} = \\underset{c=0,...,C-1}{\\text{argmax}}\\,\\, \\mathbf{x}^T \\mathbf{w}_c^{\\star} \n",
    "\\end{equation}\n",
    "\n",
    "where any point lying *exactly* on the decision boundary should be assigned a label randomly based on the index of those classifiers providing maximum evaluation."
   ]
  },
  {
   "cell_type": "code",
   "execution_count": 4,
   "metadata": {},
   "outputs": [
    {
     "data": {
      "text/html": [
       "<img src=\"chapter_7_images/multiclass_prediction.png\" width=\"85%\" height=\"80%\" alt=\"\"/>"
      ],
      "text/plain": [
       "<IPython.core.display.HTML object>"
      ]
     },
     "execution_count": 4,
     "metadata": {},
     "output_type": "execute_result"
    }
   ],
   "source": [
    "IPython.display.HTML('''<img src=\"''' + image_path_1 + '''\" width=\"85%\" height=\"80%\" alt=\"\"/>''')"
   ]
  },
  {
   "cell_type": "markdown",
   "metadata": {},
   "source": [
    "<figure>\n",
    "  <figcaption>   \n",
    "<strong></strong> <em> \n",
    "\n",
    "</em>  </figcaption> \n",
    "</figure>"
   ]
  },
  {
   "cell_type": "markdown",
   "metadata": {},
   "source": [
    "##  Confidence scoring"
   ]
  },
  {
   "cell_type": "markdown",
   "metadata": {},
   "source": [
    "Once a proper decision boundary is learned, we can judge its *confidence* in any point based on *the point's distance to the decision boundary*.  More specifically we can its the exponentially normalized distance to score our confidence in the prediction, as described in [Section 7.5.3](https://jermwatt.github.io/machine_learning_refined/notes/7_Linear_multiclass_classification/7_5_Categorical.html)."
   ]
  },
  {
   "cell_type": "markdown",
   "metadata": {},
   "source": [
    "##  Judging the quality of a trained model using *accuracy*"
   ]
  },
  {
   "cell_type": "markdown",
   "metadata": {},
   "source": [
    "To *count the number of misclassifications* a trained multi-class classifier forms over our training dataset we simply take a raw count of the number of training datapoints $\\mathbf{x}_p$ whose true label $y_p$ is predicted *incorrectly*.   To compare the point $\\mathbf{x}_p$'s predicted label $\\hat{y}_p =  \\underset{j=0,...,C-1}{\\text{argmax}}\\,\\, \\mathbf{x}_p^T \\mathbf{w}_j^{\\star} $ and true true label $y_p$ we can use an identity function $\\mathcal{I}\\left(\\cdot\\right)$ and compute"
   ]
  },
  {
   "cell_type": "markdown",
   "metadata": {},
   "source": [
    "\\begin{equation}\n",
    "\\mathcal{I}\\left(\\hat{y}_p,\\,\\overset{\\,}{y}_p\\right) = \n",
    "\\begin{cases}\n",
    "0 \\,\\,\\,\\,\\,\\text{if} \\,\\, \\hat{y}_p,= \\overset{\\,}{y}_p \\\\\n",
    "1 \\,\\,\\,\\,\\,\\text{if} \\,\\,  \\hat{y}_p,\\neq \\overset{\\,}{y}_p. \\\\\n",
    "\\end{cases}\n",
    "\\end{equation}\n",
    "\n",
    "Summing all $P$ points gives the total number of misclassifications of our trained model\n",
    "\n",
    "\n",
    "\\begin{equation}\n",
    "\\text{number of misclassifications} = \\sum_{p=1}^P \\mathcal{I}\\left(\\hat{y}_p,\\,\\overset{\\,}{y}_p\\right).\n",
    "\\end{equation}"
   ]
  },
  {
   "cell_type": "markdown",
   "metadata": {},
   "source": [
    "Using this we can also compute the *accuracy*  - denoted $\\mathcal{A}$ - of a trained model.  This is simply the percentage of training dataset whose labels are correctly predicted by the model.\n",
    "\n",
    "\\begin{equation}\n",
    "\\mathcal{A}= 1 - \\frac{1}{P}\\sum_{p=1}^P \\mathcal{I}\\left(\\hat{y}_p,\\,\\overset{\\,}{y}_p\\right).\n",
    "\\end{equation}\n",
    "\n",
    "The accuracy ranges from 0 (no points are classified correctly) to 1 (all points are classified correctly).  "
   ]
  },
  {
   "cell_type": "markdown",
   "metadata": {},
   "source": [
    "#### <span style=\"color:#a50e3e;\">Example 6: </span> Comparing cost function and counting cost values"
   ]
  },
  {
   "cell_type": "markdown",
   "metadata": {},
   "source": [
    "Below we compare the number of misclassifications versus the multi-class softmax cost with regularizer. In this instance $\\lambda = 10^{-5}$ for three runs of unnormalized gradient descent using a steplength parameter $\\alpha = 10^{-2}$ for all three runs."
   ]
  },
  {
   "cell_type": "code",
   "execution_count": 2,
   "metadata": {},
   "outputs": [
    {
     "data": {
      "image/png": "[encoded data removed]",
      "text/plain": [
       "<Figure size 800x400 with 2 Axes>"
      ]
     },
     "metadata": {},
     "output_type": "display_data"
    }
   ],
   "source": [
    "# load in dataset\n",
    "data = np.loadtxt(dataset_path_1,delimiter = ',')\n",
    "\n",
    "# create an instance of the ova demo\n",
    "demo = section_7_4_helpers.MulticlassVisualizer(data)\n",
    "\n",
    "# run demo\n",
    "demo.compare_to_counting(num_runs = 3,max_its = 500,alpha = 10**(-2),lam = 10**(-5))"
   ]
  },
  {
   "cell_type": "markdown",
   "metadata": {},
   "source": [
    "Comparing the left and right panels we can see that the number of misclassifications and Softmax evaluations at each step of a gradient descent run do not perfectly track one another.  That is, it is not the case that just because the cost function value is decreasing that so too is the number of misclassifications. Again, this occurs because our Softmax cost is only an approximation of the true quantity we would like to minimize.  "
   ]
  },
  {
   "cell_type": "markdown",
   "metadata": {},
   "source": [
    "This simple example an extremely practical implication: after a running a local optimization to minimize a two-class classification cost function the best step, and corresponding weights, are associated with the lowest *number of misclassifications* (or likewise the *highest accuracy*) **not** the lowest cost function value."
   ]
  },
  {
   "cell_type": "markdown",
   "metadata": {},
   "source": [
    "## The confusion matrix and additional quality metrics"
   ]
  },
  {
   "cell_type": "markdown",
   "metadata": {},
   "source": [
    "We can generalize the idea of a confusion matrix, introduced in [Section 6.8](https://jermwatt.github.io/machine_learning_refined/notes/6_Linear_twoclass_classification/6_8_Metrics.html) for two-class classification problems, to form such matrices for problems with arbitrary number of classes. In general the confusion matrix associated to a classification problem with $C\\geq2$ classes will be of size $C\\times C$, whose $\\left(i,j\\right)^{\\textrm{th}}$\n",
    "entry is the number of data points that have $y=i$ and $\\hat{y}=j$.  The Figure below shows the confusion matrix computed for the four-class classifier previously in e.g., [Section 7.2](https://jermwatt.github.io/machine_learning_refined/notes/7_Linear_multiclass_classification/7_2_OvA.html)."
   ]
  },
  {
   "cell_type": "code",
   "execution_count": 6,
   "metadata": {},
   "outputs": [
    {
     "data": {
      "text/html": [
       "<img src=\"chapter_7_images/confusion_multiclass.png\" width=\"85%\" height=\"80%\" alt=\"\"/>"
      ],
      "text/plain": [
       "<IPython.core.display.HTML object>"
      ]
     },
     "execution_count": 6,
     "metadata": {},
     "output_type": "execute_result"
    }
   ],
   "source": [
    "IPython.display.HTML('''<img src=\"''' + image_path_2 + '''\" width=\"85%\" height=\"80%\" alt=\"\"/>''')"
   ]
  },
  {
   "cell_type": "markdown",
   "metadata": {},
   "source": [
    "<figure>\n",
    "  <figcaption>   \n",
    "<strong></strong> <em>  </em>  </figcaption> \n",
    "</figure>"
   ]
  }
 ],
 "metadata": {
  "kernelspec": {
   "display_name": "Python 3 (ipykernel)",
   "language": "python",
   "name": "python3"
  },
  "language_info": {
   "codemirror_mode": {
    "name": "ipython",
    "version": 3
   },
   "file_extension": ".py",
   "mimetype": "text/x-python",
   "name": "python",
   "nbconvert_exporter": "python",
   "pygments_lexer": "ipython3",
   "version": "3.8.10"
  },
  "toc": {
   "colors": {
    "hover_highlight": "#DAA520",
    "navigate_num": "#000000",
    "navigate_text": "#333333",
    "running_highlight": "#FF0000",
    "selected_highlight": "#FFD700",
    "sidebar_border": "#EEEEEE",
    "wrapper_background": "#FFFFFF"
   },
   "moveMenuLeft": true,
   "nav_menu": {
    "height": "142px",
    "width": "252px"
   },
   "navigate_menu": true,
   "number_sections": true,
   "sideBar": true,
   "threshold": 4,
   "toc_cell": false,
   "toc_section_display": "block",
   "toc_window_display": false,
   "widenNotebook": false
  }
 },
 "nbformat": 4,
 "nbformat_minor": 2
}
